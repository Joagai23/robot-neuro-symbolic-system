{
 "cells": [
  {
   "cell_type": "code",
   "execution_count": 3,
   "metadata": {},
   "outputs": [],
   "source": [
    "import pandas as pd\n",
    "import json\n",
    "import matplotlib.pyplot as plt\n",
    "from os import listdir"
   ]
  },
  {
   "cell_type": "markdown",
   "metadata": {},
   "source": [
    "Parse text files into usable csv datasets"
   ]
  },
  {
   "cell_type": "code",
   "execution_count": 40,
   "metadata": {},
   "outputs": [],
   "source": [
    "def pairwise(iterable):\n",
    "    \"s -> (s0, s1), (s2, s3), (s4, s5), ...\"\n",
    "    a = iter(iterable)\n",
    "    return zip(a, a)\n",
    "\n",
    "for file_name in listdir('./data/text/closures/'):\n",
    "    file = open('data/text/closures/{jars_doc}'.format(jars_doc=file_name))\n",
    "    lines = file.readlines()\n",
    "\n",
    "    value_list = []\n",
    "    for line in lines:\n",
    "        entry = {}\n",
    "        parsed_line = json.loads(line)\n",
    "        for column, value in pairwise(parsed_line):\n",
    "            entry[column] = value\n",
    "        value_list.append(entry)\n",
    "\n",
    "    df = pd.DataFrame(value_list)\n",
    "    df.to_csv('./data/csv/closures/{jars_doc}.csv'.format(jars_doc=file_name.split('.')[0]))"
   ]
  },
  {
   "cell_type": "markdown",
   "metadata": {},
   "source": [
    "Merge all datasets into one Dataframe"
   ]
  },
  {
   "cell_type": "code",
   "execution_count": 2,
   "metadata": {},
   "outputs": [],
   "source": [
    "df = pd.DataFrame()\n",
    "for file in listdir('./data/csv/closures/'):\n",
    "    current_df = pd.read_csv('./data/csv/closures/{csv_file}'.format(csv_file=file))\n",
    "    df = pd.concat([df, current_df])"
   ]
  },
  {
   "cell_type": "markdown",
   "metadata": {},
   "source": [
    "Clean Dataframe"
   ]
  },
  {
   "cell_type": "code",
   "execution_count": 4,
   "metadata": {},
   "outputs": [],
   "source": [
    "# Drop columns, change SKU Ref. to Id, and remove duplicates by Id\n",
    "df = df.drop(['Unnamed: 0', 'Diameter', 'Height', 'Finish', 'Shape', 'Weight', 'Capacity'], axis=1)\n",
    "df = df.rename(columns={'SKU reference': 'Id'})\n",
    "df.drop_duplicates(subset=['Id'], inplace=True)\n",
    "df.reset_index(drop=True, inplace=True)"
   ]
  },
  {
   "cell_type": "markdown",
   "metadata": {},
   "source": [
    "Material"
   ]
  },
  {
   "cell_type": "code",
   "execution_count": 5,
   "metadata": {},
   "outputs": [],
   "source": [
    "# Only use rows where Material column is not null\n",
    "df = df[df['Material'].notna()]\n",
    "for index in df.index.values:\n",
    "    material = df.loc[index,'Material']\n",
    "    if ('Synthetic' in material) | ('PPCP' in material) | ('Latex' in material):\n",
    "        material = 'Plastic'\n",
    "    df.loc[index, 'Material'] = material"
   ]
  },
  {
   "cell_type": "markdown",
   "metadata": {},
   "source": [
    "Color"
   ]
  },
  {
   "cell_type": "code",
   "execution_count": 6,
   "metadata": {},
   "outputs": [],
   "source": [
    "# Only use rows where Color column is not null\n",
    "df = df[df['Color'].notna()]\n",
    "# Remove material from color attribute\n",
    "for index in df.index.values:\n",
    "    color = df.loc[index,'Color']\n",
    "    color = str(color).split('-').pop()\n",
    "    df.loc[index, 'Color'] = color\n",
    "df['Color'] = df['Color'].str.capitalize()"
   ]
  },
  {
   "cell_type": "code",
   "execution_count": 7,
   "metadata": {},
   "outputs": [],
   "source": [
    "# Group colors\n",
    "for index in df.index.values:\n",
    "    color = df.loc[index,'Color']\n",
    "    if 'Golden' in color:\n",
    "        color = 'Gold'\n",
    "    elif ('Cork' in color) | ('Wood' in color):\n",
    "        color = 'Brown'\n",
    "    elif 'Blue' in color:\n",
    "        color = 'Blue'\n",
    "    elif 'Cherry' in color:\n",
    "        color = 'Red'\n",
    "    elif 'Silverish' in color:\n",
    "        color = 'Silver'\n",
    "    elif 'White' in color:\n",
    "        color = 'White'\n",
    "    elif ('Green' in color) | ('green' in color):\n",
    "        color = 'Green'\n",
    "    elif ('Bee' in color) | ('Cell' in color):\n",
    "        color = 'Gold'\n",
    "    df.loc[index, 'Color'] = color"
   ]
  },
  {
   "cell_type": "markdown",
   "metadata": {},
   "source": [
    "Name"
   ]
  },
  {
   "cell_type": "code",
   "execution_count": 9,
   "metadata": {},
   "outputs": [
    {
     "data": {
      "text/html": [
       "<div>\n",
       "<style scoped>\n",
       "    .dataframe tbody tr th:only-of-type {\n",
       "        vertical-align: middle;\n",
       "    }\n",
       "\n",
       "    .dataframe tbody tr th {\n",
       "        vertical-align: top;\n",
       "    }\n",
       "\n",
       "    .dataframe thead th {\n",
       "        text-align: right;\n",
       "    }\n",
       "</style>\n",
       "<table border=\"1\" class=\"dataframe\">\n",
       "  <thead>\n",
       "    <tr style=\"text-align: right;\">\n",
       "      <th></th>\n",
       "      <th>Id</th>\n",
       "      <th>Material</th>\n",
       "      <th>Name</th>\n",
       "      <th>Color</th>\n",
       "      <th>Type</th>\n",
       "    </tr>\n",
       "  </thead>\n",
       "  <tbody>\n",
       "    <tr>\n",
       "      <th>25</th>\n",
       "      <td>NaN</td>\n",
       "      <td>Metal</td>\n",
       "      <td>NaN</td>\n",
       "      <td>Gold</td>\n",
       "      <td></td>\n",
       "    </tr>\n",
       "    <tr>\n",
       "      <th>26</th>\n",
       "      <td>00738-5</td>\n",
       "      <td>Metal</td>\n",
       "      <td>sealing-cap-terrine-le-parfait-familia-wiss-10...</td>\n",
       "      <td>Gold</td>\n",
       "      <td></td>\n",
       "    </tr>\n",
       "    <tr>\n",
       "      <th>27</th>\n",
       "      <td>00738-4</td>\n",
       "      <td>Metal</td>\n",
       "      <td>sealing-cap-terrine-le-parfait-familia-wiss-11...</td>\n",
       "      <td>Gold</td>\n",
       "      <td></td>\n",
       "    </tr>\n",
       "    <tr>\n",
       "      <th>28</th>\n",
       "      <td>00738-6</td>\n",
       "      <td>Metal</td>\n",
       "      <td>sealing-cap-terrine-le-parfait-familia-wiss-82-mm</td>\n",
       "      <td>Gold</td>\n",
       "      <td></td>\n",
       "    </tr>\n",
       "    <tr>\n",
       "      <th>29</th>\n",
       "      <td>00738-3</td>\n",
       "      <td>Plastic</td>\n",
       "      <td>rubber-gasket-genuine-latex-100-mm</td>\n",
       "      <td>Orange</td>\n",
       "      <td></td>\n",
       "    </tr>\n",
       "    <tr>\n",
       "      <th>...</th>\n",
       "      <td>...</td>\n",
       "      <td>...</td>\n",
       "      <td>...</td>\n",
       "      <td>...</td>\n",
       "      <td>...</td>\n",
       "    </tr>\n",
       "    <tr>\n",
       "      <th>173</th>\n",
       "      <td>007072-217</td>\n",
       "      <td>Plastic</td>\n",
       "      <td>plastic-lid-for-60-mm-weck-jars</td>\n",
       "      <td>White</td>\n",
       "      <td></td>\n",
       "    </tr>\n",
       "    <tr>\n",
       "      <th>174</th>\n",
       "      <td>007072-216</td>\n",
       "      <td>Plastic</td>\n",
       "      <td>plastic-lid-for-80-mm-weck-jars</td>\n",
       "      <td>White</td>\n",
       "      <td></td>\n",
       "    </tr>\n",
       "    <tr>\n",
       "      <th>175</th>\n",
       "      <td>007072-215</td>\n",
       "      <td>Plastic</td>\n",
       "      <td>plastic-lid-for-weck-100-mm</td>\n",
       "      <td>Transparent</td>\n",
       "      <td></td>\n",
       "    </tr>\n",
       "    <tr>\n",
       "      <th>176</th>\n",
       "      <td>007072-214</td>\n",
       "      <td>Plastic</td>\n",
       "      <td>plastic-lid-for-weck-60-mm</td>\n",
       "      <td>Transparent</td>\n",
       "      <td></td>\n",
       "    </tr>\n",
       "    <tr>\n",
       "      <th>177</th>\n",
       "      <td>007072-213</td>\n",
       "      <td>Plastic</td>\n",
       "      <td>plastic-lid-for-weck-80-mm</td>\n",
       "      <td>Transparent</td>\n",
       "      <td></td>\n",
       "    </tr>\n",
       "  </tbody>\n",
       "</table>\n",
       "<p>144 rows × 5 columns</p>\n",
       "</div>"
      ],
      "text/plain": [
       "             Id Material                                               Name  \\\n",
       "25          NaN    Metal                                                NaN   \n",
       "26      00738-5    Metal  sealing-cap-terrine-le-parfait-familia-wiss-10...   \n",
       "27      00738-4    Metal  sealing-cap-terrine-le-parfait-familia-wiss-11...   \n",
       "28      00738-6    Metal  sealing-cap-terrine-le-parfait-familia-wiss-82-mm   \n",
       "29      00738-3  Plastic                 rubber-gasket-genuine-latex-100-mm   \n",
       "..          ...      ...                                                ...   \n",
       "173  007072-217  Plastic                    plastic-lid-for-60-mm-weck-jars   \n",
       "174  007072-216  Plastic                    plastic-lid-for-80-mm-weck-jars   \n",
       "175  007072-215  Plastic                        plastic-lid-for-weck-100-mm   \n",
       "176  007072-214  Plastic                         plastic-lid-for-weck-60-mm   \n",
       "177  007072-213  Plastic                         plastic-lid-for-weck-80-mm   \n",
       "\n",
       "           Color Type  \n",
       "25          Gold       \n",
       "26          Gold       \n",
       "27          Gold       \n",
       "28          Gold       \n",
       "29        Orange       \n",
       "..           ...  ...  \n",
       "173        White       \n",
       "174        White       \n",
       "175  Transparent       \n",
       "176  Transparent       \n",
       "177  Transparent       \n",
       "\n",
       "[144 rows x 5 columns]"
      ]
     },
     "execution_count": 9,
     "metadata": {},
     "output_type": "execute_result"
    }
   ],
   "source": [
    "df"
   ]
  },
  {
   "cell_type": "code",
   "execution_count": 10,
   "metadata": {},
   "outputs": [],
   "source": [
    "df['Type'] = ''\n",
    "df = df[df['Name'].notna()]\n",
    "for index in df.index.values:\n",
    "    name = df.loc[index, 'Name']\n",
    "    type = 'Twist Off'\n",
    "    if 'wiss' in name:\n",
    "        type = 'Wiss'\n",
    "    elif 'rubber-gasket' in name:\n",
    "        type = 'Rubber Ring'\n",
    "    elif 'weck' in name:\n",
    "        type = 'Weck'\n",
    "    df.loc[index, 'Type'] = type"
   ]
  },
  {
   "cell_type": "markdown",
   "metadata": {},
   "source": [
    "Basic Affordances"
   ]
  },
  {
   "cell_type": "code",
   "execution_count": 11,
   "metadata": {},
   "outputs": [
    {
     "name": "stderr",
     "output_type": "stream",
     "text": [
      "C:\\Users\\jagui\\AppData\\Local\\Temp\\ipykernel_9224\\37631689.py:1: SettingWithCopyWarning: \n",
      "A value is trying to be set on a copy of a slice from a DataFrame.\n",
      "Try using .loc[row_indexer,col_indexer] = value instead\n",
      "\n",
      "See the caveats in the documentation: https://pandas.pydata.org/pandas-docs/stable/user_guide/indexing.html#returning-a-view-versus-a-copy\n",
      "  df['Lift'] = True\n",
      "C:\\Users\\jagui\\AppData\\Local\\Temp\\ipykernel_9224\\37631689.py:2: SettingWithCopyWarning: \n",
      "A value is trying to be set on a copy of a slice from a DataFrame.\n",
      "Try using .loc[row_indexer,col_indexer] = value instead\n",
      "\n",
      "See the caveats in the documentation: https://pandas.pydata.org/pandas-docs/stable/user_guide/indexing.html#returning-a-view-versus-a-copy\n",
      "  df['Unscrew'] = False\n",
      "C:\\Users\\jagui\\AppData\\Local\\Temp\\ipykernel_9224\\37631689.py:3: SettingWithCopyWarning: \n",
      "A value is trying to be set on a copy of a slice from a DataFrame.\n",
      "Try using .loc[row_indexer,col_indexer] = value instead\n",
      "\n",
      "See the caveats in the documentation: https://pandas.pydata.org/pandas-docs/stable/user_guide/indexing.html#returning-a-view-versus-a-copy\n",
      "  df['Pull'] = False\n",
      "C:\\Users\\jagui\\AppData\\Local\\Temp\\ipykernel_9224\\37631689.py:4: SettingWithCopyWarning: \n",
      "A value is trying to be set on a copy of a slice from a DataFrame.\n",
      "Try using .loc[row_indexer,col_indexer] = value instead\n",
      "\n",
      "See the caveats in the documentation: https://pandas.pydata.org/pandas-docs/stable/user_guide/indexing.html#returning-a-view-versus-a-copy\n",
      "  df['Puncture'] = False\n"
     ]
    }
   ],
   "source": [
    "df['Lift'] = True\n",
    "df['Unscrew'] = False\n",
    "df['Pull'] = False\n",
    "df['Puncture'] = False\n",
    "for index in df.index.values:\n",
    "    if df.loc[index, 'Type'] == 'Wiss':\n",
    "        df.loc[index, 'Puncture'] = True\n",
    "    if df.loc[index, 'Type'] == 'Rubber Ring':\n",
    "        df.loc[index, 'Pull'] = True\n",
    "    if df.loc[index, 'Type'] == 'Twist Off':\n",
    "        df.loc[index, 'Unscrew'] = True"
   ]
  },
  {
   "cell_type": "code",
   "execution_count": 12,
   "metadata": {},
   "outputs": [],
   "source": [
    "df = df.drop(['Id', 'Name'], axis=1)\n",
    "df.reset_index(drop=True, inplace=True)"
   ]
  },
  {
   "cell_type": "code",
   "execution_count": 14,
   "metadata": {},
   "outputs": [],
   "source": [
    "df.to_csv('./data/csv/jar_closures.csv')"
   ]
  }
 ],
 "metadata": {
  "kernelspec": {
   "display_name": "Python 3",
   "language": "python",
   "name": "python3"
  },
  "language_info": {
   "codemirror_mode": {
    "name": "ipython",
    "version": 3
   },
   "file_extension": ".py",
   "mimetype": "text/x-python",
   "name": "python",
   "nbconvert_exporter": "python",
   "pygments_lexer": "ipython3",
   "version": "3.12.1"
  }
 },
 "nbformat": 4,
 "nbformat_minor": 2
}
