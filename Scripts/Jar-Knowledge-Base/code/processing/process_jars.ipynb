{
 "cells": [
  {
   "cell_type": "code",
   "execution_count": 1,
   "metadata": {},
   "outputs": [],
   "source": [
    "import pandas as pd\n",
    "import json\n",
    "import matplotlib.pyplot as plt\n",
    "from os import listdir"
   ]
  },
  {
   "cell_type": "markdown",
   "metadata": {},
   "source": [
    "Parse text files into usable csv datasets"
   ]
  },
  {
   "cell_type": "code",
   "execution_count": 10,
   "metadata": {},
   "outputs": [],
   "source": [
    "name = 'weck_jars'\n",
    "file = open('data/text/{jars_doc}.txt'.format(jars_doc=name))\n",
    "lines = file.readlines()\n",
    "\n",
    "def pairwise(iterable):\n",
    "    \"s -> (s0, s1), (s2, s3), (s4, s5), ...\"\n",
    "    a = iter(iterable)\n",
    "    return zip(a, a)\n",
    "\n",
    "value_list = []\n",
    "for line in lines:\n",
    "    entry = {}\n",
    "    parsed_line = json.loads(line)\n",
    "    for column, value in pairwise(parsed_line):\n",
    "        entry[column] = value\n",
    "    value_list.append(entry)\n",
    "\n",
    "df = pd.DataFrame(value_list)\n",
    "df.to_csv('./data/csv/{jars_doc}.csv'.format(jars_doc=name))"
   ]
  },
  {
   "cell_type": "markdown",
   "metadata": {},
   "source": [
    "Merge all datasets into one Dataframe"
   ]
  },
  {
   "cell_type": "code",
   "execution_count": 3,
   "metadata": {},
   "outputs": [],
   "source": [
    "df = pd.DataFrame()\n",
    "for file in listdir('./data/csv/jars/'):\n",
    "    current_df = pd.read_csv('./data/csv/jars/{csv_file}'.format(csv_file=file))\n",
    "    df = pd.concat([df, current_df])"
   ]
  },
  {
   "cell_type": "markdown",
   "metadata": {},
   "source": [
    "Clean Dataframe"
   ]
  },
  {
   "cell_type": "code",
   "execution_count": 4,
   "metadata": {},
   "outputs": [],
   "source": [
    "# Drop columns, change SKU Ref. to Id, and remove duplicates by Id\n",
    "df = df.drop(['Unnamed: 0', 'Units per pasteurizer', 'Technical drawing', 'Length', 'Width', 'Diameter'], axis=1)\n",
    "df = df.rename(columns={'SKU reference': 'Id'})\n",
    "df.drop_duplicates(subset=['Id'], inplace=True)\n",
    "df.reset_index(drop=True, inplace=True)"
   ]
  },
  {
   "cell_type": "markdown",
   "metadata": {},
   "source": [
    "Finish (part 1)"
   ]
  },
  {
   "cell_type": "code",
   "execution_count": 5,
   "metadata": {},
   "outputs": [],
   "source": [
    "# Only use rows where Finish column is not null -> Finish determines the Affordance\n",
    "df = df[df['Finish'].notna()]"
   ]
  },
  {
   "cell_type": "markdown",
   "metadata": {},
   "source": [
    "Capacity"
   ]
  },
  {
   "cell_type": "code",
   "execution_count": 6,
   "metadata": {},
   "outputs": [
    {
     "name": "stderr",
     "output_type": "stream",
     "text": [
      "C:\\Users\\jagui\\AppData\\Local\\Temp\\ipykernel_1244\\2151157840.py:4: FutureWarning: Setting an item of incompatible dtype is deprecated and will raise in a future error of pandas. Value '<= 250 mL' has dtype incompatible with float64, please explicitly cast to a compatible dtype first.\n",
      "  df.loc[(df['Capacity'] <= 250), 'Capacity 1'] = '<= 250 mL'\n"
     ]
    }
   ],
   "source": [
    "df['Capacity'] = df['Capacity'].str.replace(' ml', '')\n",
    "df['Capacity'] = pd.to_numeric(df['Capacity'])\n",
    "\n",
    "df.loc[(df['Capacity'] <= 250), 'Capacity 1'] = '<= 250 mL'\n",
    "df.loc[(df['Capacity'] > 250) & (df['Capacity'] <= 500), 'Capacity 1'] = '250 - 500 mL'\n",
    "df.loc[(df['Capacity'] > 500) & (df['Capacity'] <= 750), 'Capacity 1'] = '500 - 750 mL'\n",
    "df.loc[(df['Capacity'] > 750) & (df['Capacity'] < 1000), 'Capacity 1'] = '750 - 1000 mL'\n",
    "df.loc[df['Capacity'] >= 1000, 'Capacity 1'] = '>= 1000 mL'\n",
    "\n",
    "df = df.drop(['Capacity'], axis=1)\n",
    "df = df.rename(columns={'Capacity 1': 'Capacity'})"
   ]
  },
  {
   "cell_type": "markdown",
   "metadata": {},
   "source": [
    "Weight"
   ]
  },
  {
   "cell_type": "code",
   "execution_count": 7,
   "metadata": {},
   "outputs": [
    {
     "name": "stderr",
     "output_type": "stream",
     "text": [
      "C:\\Users\\jagui\\AppData\\Local\\Temp\\ipykernel_1244\\121108913.py:4: FutureWarning: Setting an item of incompatible dtype is deprecated and will raise in a future error of pandas. Value '<= 250 g' has dtype incompatible with float64, please explicitly cast to a compatible dtype first.\n",
      "  df.loc[(df['Weight'] <= 250), 'Weight 1'] = '<= 250 g'\n"
     ]
    }
   ],
   "source": [
    "df['Weight'] = df['Weight'].str.replace(' grs', '')\n",
    "df['Weight'] = pd.to_numeric(df['Weight'])\n",
    "\n",
    "df.loc[(df['Weight'] <= 250), 'Weight 1'] = '<= 250 g'\n",
    "df.loc[(df['Weight'] > 250) & (df['Weight'] <= 500), 'Weight 1'] = '250 - 500 g'\n",
    "df.loc[(df['Weight'] > 500) & (df['Weight'] <= 750), 'Weight 1'] = '500 - 750 g'\n",
    "df.loc[(df['Weight'] > 750) & (df['Weight'] < 1000), 'Weight 1'] = '750 - 1000 g'\n",
    "df.loc[df['Weight'] >= 1000, 'Weight 1'] = '>= 1000 g'\n",
    "\n",
    "df = df.drop(['Weight'], axis=1)\n",
    "df = df.rename(columns={'Weight 1': 'Weight'})"
   ]
  },
  {
   "cell_type": "markdown",
   "metadata": {},
   "source": [
    "Material"
   ]
  },
  {
   "cell_type": "code",
   "execution_count": 8,
   "metadata": {},
   "outputs": [],
   "source": [
    "material_nan = df[df['Material'].isna()]\n",
    "for index in material_nan.index.values:\n",
    "    color = df.loc[index,'Color']\n",
    "    material = 'Plastic'\n",
    "    if 'glass' in color:\n",
    "        material = 'Glass'\n",
    "    df.loc[index, 'Material'] = material"
   ]
  },
  {
   "cell_type": "markdown",
   "metadata": {},
   "source": [
    "Height"
   ]
  },
  {
   "cell_type": "code",
   "execution_count": 9,
   "metadata": {},
   "outputs": [
    {
     "name": "stderr",
     "output_type": "stream",
     "text": [
      "C:\\Users\\jagui\\AppData\\Local\\Temp\\ipykernel_1244\\3582645053.py:5: FutureWarning: Setting an item of incompatible dtype is deprecated and will raise in a future error of pandas. Value '<= 50 mm' has dtype incompatible with float64, please explicitly cast to a compatible dtype first.\n",
      "  df.loc[(df['Height'] <= 50), 'Height 1'] = '<= 50 mm'\n"
     ]
    }
   ],
   "source": [
    "df['Height'] = df['Height'].str.replace(' mm', '')\n",
    "df['Height'] = df['Height'].str.replace(',', '.')\n",
    "df['Height'] = pd.to_numeric(df['Height'])\n",
    "\n",
    "df.loc[(df['Height'] <= 50), 'Height 1'] = '<= 50 mm'\n",
    "df.loc[(df['Height'] > 50) & (df['Height'] <= 100), 'Height 1'] = '50 - 100 mm'\n",
    "df.loc[(df['Height'] > 100) & (df['Height'] <= 150), 'Height 1'] = '100 - 150 mm'\n",
    "df.loc[(df['Height'] > 150) & (df['Height'] < 200), 'Height 1'] = '150 - 200 mm'\n",
    "df.loc[df['Height'] >= 200, 'Height 1'] = '>= 200 mm'\n",
    "\n",
    "df = df.drop(['Height'], axis=1)\n",
    "df = df.rename(columns={'Height 1': 'Height'})"
   ]
  },
  {
   "cell_type": "markdown",
   "metadata": {},
   "source": [
    "Color"
   ]
  },
  {
   "cell_type": "code",
   "execution_count": 10,
   "metadata": {},
   "outputs": [],
   "source": [
    "df['Color'].unique()\n",
    "for index in df.index.values:\n",
    "    color = df.loc[index, 'Color']\n",
    "    final_color = 'White'\n",
    "    if 'transparent' in color:\n",
    "        final_color = 'Transparent'\n",
    "    elif 'black' in color:\n",
    "        final_color = 'Black'\n",
    "    df.loc[index, 'Color'] = final_color"
   ]
  },
  {
   "cell_type": "markdown",
   "metadata": {},
   "source": [
    "Shape"
   ]
  },
  {
   "cell_type": "code",
   "execution_count": 11,
   "metadata": {},
   "outputs": [],
   "source": [
    "# Only use rows where Shape column is not null -> Only 2 null rows\n",
    "df = df[df['Shape'].notna()]\n",
    "df['Shape'] = df['Shape'].str.capitalize()"
   ]
  },
  {
   "cell_type": "markdown",
   "metadata": {},
   "source": [
    "Finish (part 2)"
   ]
  },
  {
   "cell_type": "code",
   "execution_count": 12,
   "metadata": {},
   "outputs": [],
   "source": [
    "for index in df.index.values:\n",
    "    finish = df.loc[index,'Finish']\n",
    "    type = 'Special'\n",
    "    if ('TO' in finish) | ('Twist Off' in finish) | ('PP' in finish) | ('Screw' in finish) | ('Rosco' in finish):\n",
    "        type = 'Twist Off'\n",
    "    elif ('Latex' in finish) | ('Swing' in finish):\n",
    "        type = 'Swing Top'\n",
    "    elif 'Weck' in finish:\n",
    "        type = 'Rubber Ring'\n",
    "    elif 'Thread' in finish:\n",
    "        type = 'Sprayer'\n",
    "    elif 'Wiss' in finish:\n",
    "        type = 'Wiss'\n",
    "    df.loc[index, 'Finish'] = type\n",
    "df.drop(df[df['Finish'] == 'Special'].index, inplace=True)"
   ]
  },
  {
   "cell_type": "markdown",
   "metadata": {},
   "source": [
    "Basic Affordances"
   ]
  },
  {
   "cell_type": "code",
   "execution_count": 13,
   "metadata": {},
   "outputs": [],
   "source": [
    "df['Grasp'] = True\n",
    "df['Swing'] = False\n",
    "for index in df.index.values:\n",
    "    if df.loc[index, 'Finish'] == 'Swing Top':\n",
    "        df.loc[index, 'Swing'] = True\n",
    "\n",
    "df = df.drop(['Id'], axis=1)\n",
    "df.reset_index(drop=True, inplace=True)"
   ]
  },
  {
   "cell_type": "code",
   "execution_count": 14,
   "metadata": {},
   "outputs": [],
   "source": [
    "df.to_csv('./data/csv/jars.csv')"
   ]
  }
 ],
 "metadata": {
  "kernelspec": {
   "display_name": "Python 3",
   "language": "python",
   "name": "python3"
  },
  "language_info": {
   "codemirror_mode": {
    "name": "ipython",
    "version": 3
   },
   "file_extension": ".py",
   "mimetype": "text/x-python",
   "name": "python",
   "nbconvert_exporter": "python",
   "pygments_lexer": "ipython3",
   "version": "3.10.13"
  }
 },
 "nbformat": 4,
 "nbformat_minor": 2
}
