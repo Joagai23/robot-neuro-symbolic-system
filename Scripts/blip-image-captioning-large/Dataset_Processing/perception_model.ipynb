{
 "cells": [
  {
   "cell_type": "code",
   "execution_count": 55,
   "metadata": {},
   "outputs": [],
   "source": [
    "import pandas as pd"
   ]
  },
  {
   "cell_type": "code",
   "execution_count": 108,
   "metadata": {},
   "outputs": [
    {
     "data": {
      "text/html": [
       "<div>\n",
       "<style scoped>\n",
       "    .dataframe tbody tr th:only-of-type {\n",
       "        vertical-align: middle;\n",
       "    }\n",
       "\n",
       "    .dataframe tbody tr th {\n",
       "        vertical-align: top;\n",
       "    }\n",
       "\n",
       "    .dataframe thead th {\n",
       "        text-align: right;\n",
       "    }\n",
       "</style>\n",
       "<table border=\"1\" class=\"dataframe\">\n",
       "  <thead>\n",
       "    <tr style=\"text-align: right;\">\n",
       "      <th></th>\n",
       "      <th>file_name</th>\n",
       "      <th>text</th>\n",
       "    </tr>\n",
       "  </thead>\n",
       "  <tbody>\n",
       "    <tr>\n",
       "      <th>0</th>\n",
       "      <td>1.jpg</td>\n",
       "      <td>one full opaque open cylindrical plastic jar w...</td>\n",
       "    </tr>\n",
       "    <tr>\n",
       "      <th>1</th>\n",
       "      <td>2.jpg</td>\n",
       "      <td>several full transparent closed complex-shaped...</td>\n",
       "    </tr>\n",
       "    <tr>\n",
       "      <th>2</th>\n",
       "      <td>3.jpg</td>\n",
       "      <td>one full translucent closed oval plastic conta...</td>\n",
       "    </tr>\n",
       "    <tr>\n",
       "      <th>3</th>\n",
       "      <td>4.jpg</td>\n",
       "      <td>several full transparent closed cylindrical pl...</td>\n",
       "    </tr>\n",
       "    <tr>\n",
       "      <th>4</th>\n",
       "      <td>5.jpg</td>\n",
       "      <td>one empty transparent closed oval glass contai...</td>\n",
       "    </tr>\n",
       "  </tbody>\n",
       "</table>\n",
       "</div>"
      ],
      "text/plain": [
       "  file_name                                               text\n",
       "0     1.jpg  one full opaque open cylindrical plastic jar w...\n",
       "1     2.jpg  several full transparent closed complex-shaped...\n",
       "2     3.jpg  one full translucent closed oval plastic conta...\n",
       "3     4.jpg  several full transparent closed cylindrical pl...\n",
       "4     5.jpg  one empty transparent closed oval glass contai..."
      ]
     },
     "execution_count": 108,
     "metadata": {},
     "output_type": "execute_result"
    }
   ],
   "source": [
    "annotation_df = pd.read_csv('./metadata.csv')\n",
    "annotation_df.head()"
   ]
  },
  {
   "cell_type": "code",
   "execution_count": 109,
   "metadata": {},
   "outputs": [],
   "source": [
    "df = pd.DataFrame()"
   ]
  },
  {
   "cell_type": "markdown",
   "metadata": {},
   "source": [
    "Insides"
   ]
  },
  {
   "cell_type": "code",
   "execution_count": 110,
   "metadata": {},
   "outputs": [],
   "source": [
    "text = annotation_df['text']\n",
    "insides = []\n",
    "for entry in text:\n",
    "    inside = entry.split(' ')[1]\n",
    "    if inside == 'full':\n",
    "        inside = 'Full'\n",
    "    elif inside == 'empty':\n",
    "        inside = 'Empty'\n",
    "    else:\n",
    "        inside = 'None'\n",
    "    insides.append(inside)\n",
    "\n",
    "df['Inside'] = insides\n",
    "df['Image'] = annotation_df['file_name']\n"
   ]
  },
  {
   "cell_type": "markdown",
   "metadata": {},
   "source": [
    "Color"
   ]
  },
  {
   "cell_type": "code",
   "execution_count": 111,
   "metadata": {},
   "outputs": [],
   "source": [
    "colors = []\n",
    "for entry in text:\n",
    "    color = entry.split(' ')[2]\n",
    "    colors.append(str.capitalize(color))\n",
    "\n",
    "df['Color'] = colors"
   ]
  },
  {
   "cell_type": "markdown",
   "metadata": {},
   "source": [
    "State"
   ]
  },
  {
   "cell_type": "code",
   "execution_count": 112,
   "metadata": {},
   "outputs": [],
   "source": [
    "states = []\n",
    "for entry in text:\n",
    "    state = entry.split(' ')[3]\n",
    "    states.append(str.capitalize(state))\n",
    "\n",
    "df['State'] = states"
   ]
  },
  {
   "cell_type": "markdown",
   "metadata": {},
   "source": [
    "Shape"
   ]
  },
  {
   "cell_type": "code",
   "execution_count": 113,
   "metadata": {},
   "outputs": [],
   "source": [
    "shapes = []\n",
    "for entry in text:\n",
    "    shape = entry.split(' ')[4]\n",
    "    if shape == 'complex-shaped':\n",
    "        shape = 'complex'\n",
    "    shapes.append(str.capitalize(shape))\n",
    "\n",
    "df['Shape'] = shapes"
   ]
  },
  {
   "cell_type": "markdown",
   "metadata": {},
   "source": [
    "Material"
   ]
  },
  {
   "cell_type": "code",
   "execution_count": 114,
   "metadata": {},
   "outputs": [],
   "source": [
    "materials = []\n",
    "for entry in text:\n",
    "    material = entry.split(' ')[5]\n",
    "    materials.append(str.capitalize(material))\n",
    "\n",
    "df['Material'] = materials"
   ]
  },
  {
   "cell_type": "markdown",
   "metadata": {},
   "source": [
    "Object"
   ]
  },
  {
   "cell_type": "code",
   "execution_count": 115,
   "metadata": {},
   "outputs": [],
   "source": [
    "objects = []\n",
    "for entry in text:\n",
    "    object = entry.split(' ')[6]\n",
    "    objects.append(str.capitalize(object))\n",
    "\n",
    "df['Object'] = objects"
   ]
  },
  {
   "cell_type": "markdown",
   "metadata": {},
   "source": [
    "Finish"
   ]
  },
  {
   "cell_type": "code",
   "execution_count": 119,
   "metadata": {},
   "outputs": [],
   "source": [
    "finishes = []\n",
    "for entry in text:\n",
    "    finish = entry.split(' ')[9]\n",
    "    finishes.append(str.capitalize(finish))\n",
    "\n",
    "df['Finish'] = finishes"
   ]
  },
  {
   "cell_type": "markdown",
   "metadata": {},
   "source": [
    "Metal clips, Rubber ring, and Handle"
   ]
  },
  {
   "cell_type": "code",
   "execution_count": 122,
   "metadata": {},
   "outputs": [],
   "source": [
    "metal_clips = []\n",
    "rubber_rings = []\n",
    "handles = []\n",
    "for entry in text:\n",
    "    if 'metal' in entry:\n",
    "        metal_clips.append(True)\n",
    "    else:\n",
    "        metal_clips.append(False)\n",
    "    if 'rubber' in entry:\n",
    "        rubber_rings.append(True)\n",
    "    else:\n",
    "        rubber_rings.append(False)\n",
    "    if 'handle' in entry:\n",
    "        handles.append(True)\n",
    "    else:\n",
    "        handles.append(False)\n",
    "\n",
    "df['Metal Clip'] = metal_clips\n",
    "df['Rubber Ring'] = rubber_rings\n",
    "df['Handle'] = handles"
   ]
  },
  {
   "cell_type": "markdown",
   "metadata": {},
   "source": [
    "Closure"
   ]
  },
  {
   "cell_type": "code",
   "execution_count": 130,
   "metadata": {},
   "outputs": [],
   "source": [
    "closures = []\n",
    "for entry in text:\n",
    "    closure = entry.split(' ')[-2]\n",
    "    closures.append(str.capitalize(closure))\n",
    "\n",
    "df['Closure'] = closures"
   ]
  },
  {
   "cell_type": "code",
   "execution_count": 135,
   "metadata": {},
   "outputs": [],
   "source": [
    "df = df.drop('Image', axis='columns')"
   ]
  },
  {
   "cell_type": "code",
   "execution_count": 136,
   "metadata": {},
   "outputs": [],
   "source": [
    "df.to_csv('./ReasoningBase.csv')"
   ]
  },
  {
   "cell_type": "code",
   "execution_count": 137,
   "metadata": {},
   "outputs": [
    {
     "data": {
      "text/html": [
       "<div>\n",
       "<style scoped>\n",
       "    .dataframe tbody tr th:only-of-type {\n",
       "        vertical-align: middle;\n",
       "    }\n",
       "\n",
       "    .dataframe tbody tr th {\n",
       "        vertical-align: top;\n",
       "    }\n",
       "\n",
       "    .dataframe thead th {\n",
       "        text-align: right;\n",
       "    }\n",
       "</style>\n",
       "<table border=\"1\" class=\"dataframe\">\n",
       "  <thead>\n",
       "    <tr style=\"text-align: right;\">\n",
       "      <th></th>\n",
       "      <th>Inside</th>\n",
       "      <th>Color</th>\n",
       "      <th>State</th>\n",
       "      <th>Shape</th>\n",
       "      <th>Material</th>\n",
       "      <th>Object</th>\n",
       "      <th>Finish</th>\n",
       "      <th>Metal Clip</th>\n",
       "      <th>Rubber Ring</th>\n",
       "      <th>Handle</th>\n",
       "      <th>Closure</th>\n",
       "    </tr>\n",
       "  </thead>\n",
       "  <tbody>\n",
       "    <tr>\n",
       "      <th>0</th>\n",
       "      <td>Full</td>\n",
       "      <td>Opaque</td>\n",
       "      <td>Open</td>\n",
       "      <td>Cylindrical</td>\n",
       "      <td>Plastic</td>\n",
       "      <td>Jar</td>\n",
       "      <td>Snap</td>\n",
       "      <td>False</td>\n",
       "      <td>False</td>\n",
       "      <td>False</td>\n",
       "      <td>Snap</td>\n",
       "    </tr>\n",
       "    <tr>\n",
       "      <th>1</th>\n",
       "      <td>Full</td>\n",
       "      <td>Transparent</td>\n",
       "      <td>Closed</td>\n",
       "      <td>Complex</td>\n",
       "      <td>Glass</td>\n",
       "      <td>Bottle</td>\n",
       "      <td>Complex</td>\n",
       "      <td>False</td>\n",
       "      <td>False</td>\n",
       "      <td>False</td>\n",
       "      <td>No</td>\n",
       "    </tr>\n",
       "    <tr>\n",
       "      <th>2</th>\n",
       "      <td>Full</td>\n",
       "      <td>Translucent</td>\n",
       "      <td>Closed</td>\n",
       "      <td>Oval</td>\n",
       "      <td>Plastic</td>\n",
       "      <td>Container</td>\n",
       "      <td>Snap</td>\n",
       "      <td>False</td>\n",
       "      <td>False</td>\n",
       "      <td>False</td>\n",
       "      <td>Snap</td>\n",
       "    </tr>\n",
       "    <tr>\n",
       "      <th>3</th>\n",
       "      <td>Full</td>\n",
       "      <td>Transparent</td>\n",
       "      <td>Closed</td>\n",
       "      <td>Cylindrical</td>\n",
       "      <td>Plastic</td>\n",
       "      <td>Bottle</td>\n",
       "      <td>Twist</td>\n",
       "      <td>False</td>\n",
       "      <td>False</td>\n",
       "      <td>False</td>\n",
       "      <td>Screw</td>\n",
       "    </tr>\n",
       "    <tr>\n",
       "      <th>4</th>\n",
       "      <td>Empty</td>\n",
       "      <td>Transparent</td>\n",
       "      <td>Closed</td>\n",
       "      <td>Oval</td>\n",
       "      <td>Glass</td>\n",
       "      <td>Container</td>\n",
       "      <td>Snap</td>\n",
       "      <td>False</td>\n",
       "      <td>False</td>\n",
       "      <td>False</td>\n",
       "      <td>Snap</td>\n",
       "    </tr>\n",
       "    <tr>\n",
       "      <th>...</th>\n",
       "      <td>...</td>\n",
       "      <td>...</td>\n",
       "      <td>...</td>\n",
       "      <td>...</td>\n",
       "      <td>...</td>\n",
       "      <td>...</td>\n",
       "      <td>...</td>\n",
       "      <td>...</td>\n",
       "      <td>...</td>\n",
       "      <td>...</td>\n",
       "      <td>...</td>\n",
       "    </tr>\n",
       "    <tr>\n",
       "      <th>3696</th>\n",
       "      <td>Full</td>\n",
       "      <td>Opaque</td>\n",
       "      <td>Closed</td>\n",
       "      <td>Cylindrical</td>\n",
       "      <td>Plastic</td>\n",
       "      <td>Jar</td>\n",
       "      <td>Twist</td>\n",
       "      <td>False</td>\n",
       "      <td>False</td>\n",
       "      <td>False</td>\n",
       "      <td>Screw</td>\n",
       "    </tr>\n",
       "    <tr>\n",
       "      <th>3697</th>\n",
       "      <td>Full</td>\n",
       "      <td>Opaque</td>\n",
       "      <td>Open</td>\n",
       "      <td>Cylindrical</td>\n",
       "      <td>Plastic</td>\n",
       "      <td>Jar</td>\n",
       "      <td>Twist</td>\n",
       "      <td>False</td>\n",
       "      <td>False</td>\n",
       "      <td>False</td>\n",
       "      <td>No</td>\n",
       "    </tr>\n",
       "    <tr>\n",
       "      <th>3698</th>\n",
       "      <td>Empty</td>\n",
       "      <td>Translucent</td>\n",
       "      <td>Open</td>\n",
       "      <td>Cylindrical</td>\n",
       "      <td>Plastic</td>\n",
       "      <td>Jar</td>\n",
       "      <td>Twist</td>\n",
       "      <td>False</td>\n",
       "      <td>False</td>\n",
       "      <td>False</td>\n",
       "      <td>No</td>\n",
       "    </tr>\n",
       "    <tr>\n",
       "      <th>3699</th>\n",
       "      <td>Full</td>\n",
       "      <td>Opaque</td>\n",
       "      <td>Open</td>\n",
       "      <td>Cylindrical</td>\n",
       "      <td>Plastic</td>\n",
       "      <td>Jar</td>\n",
       "      <td>Twist</td>\n",
       "      <td>False</td>\n",
       "      <td>False</td>\n",
       "      <td>False</td>\n",
       "      <td>No</td>\n",
       "    </tr>\n",
       "    <tr>\n",
       "      <th>3700</th>\n",
       "      <td>Full</td>\n",
       "      <td>Opaque</td>\n",
       "      <td>Closed</td>\n",
       "      <td>Cylindrical</td>\n",
       "      <td>Plastic</td>\n",
       "      <td>Jar</td>\n",
       "      <td>Snap</td>\n",
       "      <td>False</td>\n",
       "      <td>False</td>\n",
       "      <td>True</td>\n",
       "      <td>Snap</td>\n",
       "    </tr>\n",
       "  </tbody>\n",
       "</table>\n",
       "<p>3701 rows × 11 columns</p>\n",
       "</div>"
      ],
      "text/plain": [
       "     Inside        Color   State        Shape Material     Object   Finish  \\\n",
       "0      Full       Opaque    Open  Cylindrical  Plastic        Jar     Snap   \n",
       "1      Full  Transparent  Closed      Complex    Glass     Bottle  Complex   \n",
       "2      Full  Translucent  Closed         Oval  Plastic  Container     Snap   \n",
       "3      Full  Transparent  Closed  Cylindrical  Plastic     Bottle    Twist   \n",
       "4     Empty  Transparent  Closed         Oval    Glass  Container     Snap   \n",
       "...     ...          ...     ...          ...      ...        ...      ...   \n",
       "3696   Full       Opaque  Closed  Cylindrical  Plastic        Jar    Twist   \n",
       "3697   Full       Opaque    Open  Cylindrical  Plastic        Jar    Twist   \n",
       "3698  Empty  Translucent    Open  Cylindrical  Plastic        Jar    Twist   \n",
       "3699   Full       Opaque    Open  Cylindrical  Plastic        Jar    Twist   \n",
       "3700   Full       Opaque  Closed  Cylindrical  Plastic        Jar     Snap   \n",
       "\n",
       "      Metal Clip  Rubber Ring  Handle Closure  \n",
       "0          False        False   False    Snap  \n",
       "1          False        False   False      No  \n",
       "2          False        False   False    Snap  \n",
       "3          False        False   False   Screw  \n",
       "4          False        False   False    Snap  \n",
       "...          ...          ...     ...     ...  \n",
       "3696       False        False   False   Screw  \n",
       "3697       False        False   False      No  \n",
       "3698       False        False   False      No  \n",
       "3699       False        False   False      No  \n",
       "3700       False        False    True    Snap  \n",
       "\n",
       "[3701 rows x 11 columns]"
      ]
     },
     "execution_count": 137,
     "metadata": {},
     "output_type": "execute_result"
    }
   ],
   "source": [
    "df"
   ]
  },
  {
   "cell_type": "code",
   "execution_count": null,
   "metadata": {},
   "outputs": [],
   "source": []
  }
 ],
 "metadata": {
  "kernelspec": {
   "display_name": "tf",
   "language": "python",
   "name": "python3"
  },
  "language_info": {
   "codemirror_mode": {
    "name": "ipython",
    "version": 3
   },
   "file_extension": ".py",
   "mimetype": "text/x-python",
   "name": "python",
   "nbconvert_exporter": "python",
   "pygments_lexer": "ipython3",
   "version": "3.9.18"
  }
 },
 "nbformat": 4,
 "nbformat_minor": 2
}
