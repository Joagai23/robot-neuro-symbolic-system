{
 "cells": [
  {
   "cell_type": "code",
   "execution_count": 1,
   "metadata": {},
   "outputs": [],
   "source": [
    "import pandas as pd\n",
    "import re"
   ]
  },
  {
   "cell_type": "code",
   "execution_count": 3,
   "metadata": {},
   "outputs": [],
   "source": [
    "df = pd.read_csv(\"./evaluation_file.csv\")\n",
    "full_df = pd.read_csv(\"./AffordanceReasoningBase.csv\")"
   ]
  },
  {
   "cell_type": "code",
   "execution_count": 4,
   "metadata": {},
   "outputs": [],
   "source": [
    "test_caption = df['caption']\n",
    "evaluation_caption = df['evaluation']"
   ]
  },
  {
   "cell_type": "code",
   "execution_count": 14,
   "metadata": {},
   "outputs": [],
   "source": [
    "test_finishes = []\n",
    "evaluation_finishes = []\n",
    "\n",
    "for test, evaluation in zip(test_caption, evaluation_caption):\n",
    "    test_re = re.search(\"\\w+(?=\\s*finish[^/])\", test)\n",
    "    eval_re = re.search(\"\\w+(?=\\s*finish[^/])\", evaluation)\n",
    "    test_finishes.append(test_re.group())\n",
    "    evaluation_finishes.append(eval_re.group())"
   ]
  },
  {
   "cell_type": "code",
   "execution_count": 17,
   "metadata": {},
   "outputs": [],
   "source": [
    "finish_df = pd.DataFrame()\n",
    "finish_df['test'] = test_finishes\n",
    "finish_df['evaluation'] = evaluation_finishes"
   ]
  },
  {
   "cell_type": "code",
   "execution_count": 19,
   "metadata": {},
   "outputs": [
    {
     "name": "stdout",
     "output_type": "stream",
     "text": [
      "evaluation  complex  snap  top  twist\n",
      "test                                 \n",
      "snap              0    84    0     48\n",
      "top               0     2    9      4\n",
      "twist             1     7    0    412\n"
     ]
    }
   ],
   "source": [
    "print(pd.crosstab(finish_df.test, finish_df.evaluation))"
   ]
  },
  {
   "cell_type": "code",
   "execution_count": 24,
   "metadata": {},
   "outputs": [
    {
     "name": "stdout",
     "output_type": "stream",
     "text": [
      "test\n",
      "twist    0.740741\n",
      "snap     0.232804\n",
      "top      0.026455\n",
      "Name: proportion, dtype: float64\n"
     ]
    }
   ],
   "source": [
    "print(finish_df.test.value_counts(normalize=True))"
   ]
  },
  {
   "cell_type": "code",
   "execution_count": 25,
   "metadata": {},
   "outputs": [
    {
     "name": "stdout",
     "output_type": "stream",
     "text": [
      "test\n",
      "twist    420\n",
      "snap     132\n",
      "top       15\n",
      "Name: count, dtype: int64\n"
     ]
    }
   ],
   "source": [
    "print(finish_df.test.value_counts(normalize=False))"
   ]
  },
  {
   "cell_type": "code",
   "execution_count": null,
   "metadata": {},
   "outputs": [],
   "source": []
  }
 ],
 "metadata": {
  "kernelspec": {
   "display_name": "tf",
   "language": "python",
   "name": "python3"
  },
  "language_info": {
   "codemirror_mode": {
    "name": "ipython",
    "version": 3
   },
   "file_extension": ".py",
   "mimetype": "text/x-python",
   "name": "python",
   "nbconvert_exporter": "python",
   "pygments_lexer": "ipython3",
   "version": "3.9.18"
  }
 },
 "nbformat": 4,
 "nbformat_minor": 2
}
