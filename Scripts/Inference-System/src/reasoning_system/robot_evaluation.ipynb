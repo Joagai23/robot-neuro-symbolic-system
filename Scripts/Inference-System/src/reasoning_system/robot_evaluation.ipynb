{
 "cells": [
  {
   "cell_type": "code",
   "execution_count": 1,
   "metadata": {},
   "outputs": [],
   "source": [
    "import pandas as pd\n",
    "import re"
   ]
  },
  {
   "cell_type": "code",
   "execution_count": 2,
   "metadata": {},
   "outputs": [
    {
     "data": {
      "text/html": [
       "<div>\n",
       "<style scoped>\n",
       "    .dataframe tbody tr th:only-of-type {\n",
       "        vertical-align: middle;\n",
       "    }\n",
       "\n",
       "    .dataframe tbody tr th {\n",
       "        vertical-align: top;\n",
       "    }\n",
       "\n",
       "    .dataframe thead th {\n",
       "        text-align: right;\n",
       "    }\n",
       "</style>\n",
       "<table border=\"1\" class=\"dataframe\">\n",
       "  <thead>\n",
       "    <tr style=\"text-align: right;\">\n",
       "      <th></th>\n",
       "      <th>object_id</th>\n",
       "      <th>camera_id</th>\n",
       "      <th>evaluation_caption</th>\n",
       "    </tr>\n",
       "  </thead>\n",
       "  <tbody>\n",
       "    <tr>\n",
       "      <th>0</th>\n",
       "      <td>BigBottle</td>\n",
       "      <td>PC1</td>\n",
       "      <td>one full transparent closed cylindrical glass ...</td>\n",
       "    </tr>\n",
       "    <tr>\n",
       "      <th>1</th>\n",
       "      <td>BigBottle</td>\n",
       "      <td>PC2</td>\n",
       "      <td>one full opaque closed cylindrical plastic bot...</td>\n",
       "    </tr>\n",
       "    <tr>\n",
       "      <th>2</th>\n",
       "      <td>BigBottle</td>\n",
       "      <td>PC3</td>\n",
       "      <td>one full opaque closed cylindrical plastic bot...</td>\n",
       "    </tr>\n",
       "    <tr>\n",
       "      <th>3</th>\n",
       "      <td>BigBottle</td>\n",
       "      <td>PC4</td>\n",
       "      <td>one full transparent closed cylindrical plasti...</td>\n",
       "    </tr>\n",
       "    <tr>\n",
       "      <th>4</th>\n",
       "      <td>BigBottle</td>\n",
       "      <td>PC5</td>\n",
       "      <td>one full transparent closed cylindrical plasti...</td>\n",
       "    </tr>\n",
       "  </tbody>\n",
       "</table>\n",
       "</div>"
      ],
      "text/plain": [
       "   object_id camera_id                                 evaluation_caption\n",
       "0  BigBottle       PC1  one full transparent closed cylindrical glass ...\n",
       "1  BigBottle       PC2  one full opaque closed cylindrical plastic bot...\n",
       "2  BigBottle       PC3  one full opaque closed cylindrical plastic bot...\n",
       "3  BigBottle       PC4  one full transparent closed cylindrical plasti...\n",
       "4  BigBottle       PC5  one full transparent closed cylindrical plasti..."
      ]
     },
     "execution_count": 2,
     "metadata": {},
     "output_type": "execute_result"
    }
   ],
   "source": [
    "true_value_df = pd.read_csv('robot_true_captions.csv')\n",
    "evaluation_df = pd.read_csv('robot_evaluation_captions.csv')\n",
    "\n",
    "evaluation_df.head()"
   ]
  },
  {
   "cell_type": "code",
   "execution_count": 3,
   "metadata": {},
   "outputs": [],
   "source": [
    "true_value_captions = true_value_df['true_caption'].values\n",
    "evaluation_captions = evaluation_df['evaluation_caption'].values"
   ]
  },
  {
   "cell_type": "code",
   "execution_count": 15,
   "metadata": {},
   "outputs": [],
   "source": [
    "chunk_size = 9\n",
    "init_value = 0\n",
    "\n",
    "true_finishes = []\n",
    "caption_vote_finishes = []\n",
    "\n",
    "# i -> 0 - 49\n",
    "for i in range(init_value, int(len(evaluation_captions) / chunk_size)):\n",
    "    current_range = int(i * chunk_size)\n",
    "    true_caption = true_value_captions[i]\n",
    "    evaluation_caption = evaluation_captions[current_range:current_range + chunk_size]\n",
    "\n",
    "    true_finishes.append(re.search(\"\\w+(?=\\s*finish[^/])\", true_caption).group())\n",
    "    current_caption_finishes = []\n",
    "    for caption in evaluation_caption:\n",
    "        current_caption_finishes.append(re.search(\"\\w+(?=\\s*finish[^/])\", caption).group())\n",
    "        \n",
    "    caption_vote_finishes.append(max(set(current_caption_finishes), key=current_caption_finishes.count))"
   ]
  },
  {
   "cell_type": "code",
   "execution_count": 19,
   "metadata": {},
   "outputs": [],
   "source": [
    "finish_df = pd.DataFrame()\n",
    "finish_df['true_value'] = true_finishes\n",
    "finish_df['evaluation'] = caption_vote_finishes"
   ]
  },
  {
   "cell_type": "code",
   "execution_count": 20,
   "metadata": {},
   "outputs": [
    {
     "name": "stdout",
     "output_type": "stream",
     "text": [
      "evaluation  snap  twist\n",
      "true_value             \n",
      "snap           6     19\n",
      "twist          0     25\n"
     ]
    }
   ],
   "source": [
    "print(pd.crosstab(finish_df.true_value, finish_df.evaluation))"
   ]
  }
 ],
 "metadata": {
  "kernelspec": {
   "display_name": "tf",
   "language": "python",
   "name": "python3"
  },
  "language_info": {
   "codemirror_mode": {
    "name": "ipython",
    "version": 3
   },
   "file_extension": ".py",
   "mimetype": "text/x-python",
   "name": "python",
   "nbconvert_exporter": "python",
   "pygments_lexer": "ipython3",
   "version": "3.9.18"
  }
 },
 "nbformat": 4,
 "nbformat_minor": 2
}
